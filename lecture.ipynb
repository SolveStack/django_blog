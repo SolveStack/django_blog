{
 "cells": [
  {
   "cell_type": "markdown",
   "metadata": {},
   "source": [
    "# Django and Django-rest\n",
    "Explain the differences, and what we are currently doing in Solvestack\n",
    "\n",
    "Today's lecture borrows code from the book __Django 3 By Example__ written by _Antonio Mele_.  We will go over how to start creating a blog application.  We will review concepts we've discussed before, go over code started for a blog application, and play with different list and detail views within the blog app."
   ]
  },
  {
   "cell_type": "markdown",
   "metadata": {},
   "source": [
    "# Review\n",
    "## Needed packages\n",
    "These packages need to be installed for the code we are running today:\n",
    "```\n",
    "pip install django\n",
    "```\n",
    "### Optional packages\n",
    "These are not needed for this project, but can make data exploration fun.  Jupyter can be used to read the original version of this file.\n",
    "```\n",
    "pip install jupyter\n",
    "pip install pandas\n",
    "```\n",
    "## Terms\n",
    "_Project_\n",
    "\n",
    "_Application_\n",
    "\n",
    "_ORM_\n",
    "\n",
    "_Queryset_\n",
    "\n",
    "## Default Django file layout\n",
    "These are files generated at the start of the project, when `django-admin startproject mysite` is ran\n",
    "```\n",
    "mysite/\n",
    "    manage.py\n",
    "    mysite/\n",
    "      __init__.py\n",
    "      asgi.py\n",
    "      wsgi.py\n",
    "      settings.py\n",
    "      urls.py\n",
    "```\n",
    "\n",
    "### Project `root` folder\n",
    "- `manage.py` The command line utiility we have used to interact with the ORM.  It is used for generating boilerplate project code, migrating databases, and many other things.\n",
    "\n",
    "### `mysite` subfolder\n",
    "- `__init__.py` Used by Python to recognize the folder as a Python module\n",
    "- `asgi.py` Allows for configuring a standard being used for asynchronous web servers/apps\n",
    "- `settings.py` Project settings and configuration\n",
    "- `urls.py` URLs here map to views\n",
    "- `wsgi.py` Used to run projects as Web Server Gateway Interface apps\n",
    "\n",
    "# Intro to blog app\n",
    "## Blog app files\n",
    "These files are generated when creating a new application in your Django project with `python manage.py startapp blog`.  A subfolder named `blog` will be created with the files below:\n",
    "- `admin.py` Models can be added here to pop up in the django administration site.  Using the admin site is not required.\n",
    "- `apps.py` Main configuration of the blog app\n",
    "- `migrations` Any data migrations performed on the database go in this folder.  This is how Django tracks your model changes and keeps the db in sync.\n",
    "- `models.py` Data models in the application\n",
    "> All Django applications have a models.py file, but this file can be left empty if not needed\n",
    "- `tests.py` Tests for the blog application\n",
    "- `views.py` The logic of your application goes here.  Each view receives an HTTP request, handles it, and returns a response.\n",
    "\n",
    "## Object model\n",
    "Data schemas are defined in `models.py`\n",
    "- The Django object-relational mapper (ORM) is compatible with MySQL, PostgreSQL, SQLite, Oracle, and MariaDB.\n",
    "- Each attribute in the model subclass is a database field\n",
    "- A QuerySet is a collection of database queries to retrieve objects from your database. You can apply filters to QuerySets to narrow down the query results based on given parameters.\n",
    "- database being used for this application is `sqlite3` (you can see in `settings.py`)\n",
    "- Can view the database in dbeaver\n",
    "\n",
    "### settings.py file\n",
    "This is worth it's own section to review - if everyone would like, we can go through it real quick"
   ]
  },
  {
   "cell_type": "markdown",
   "metadata": {},
   "source": [
    "# Additional ORM concepts\n",
    "## Models\n",
    "Models are subclasses of `django.db.models.Model`, which means they follow a certain format we can use to easily manage data\n",
    "- Django looks through the `models.py` files and creates tables for each model it finds in there\n",
    "- Django uses this to create the API we have used to query databases in past lectures (`python manage.py shell`)\n",
    "\n",
    "## Post model\n",
    "### Fields\n",
    "This is defined in the `blog/models.py` file.  Additional information on fields can be found here: https://docs.djangoproject.com/en/3.0/ref/models/fields/.  \n",
    "\n",
    "The fields we have are:\n",
    "- `title` Used for blog title posts\n",
    "- `slug` This field is used to create unique seo-friendly URLs for blog posts\n",
    "> `unique_for_date` is used so that URLs are built with the `slug` and `publish` date\n",
    "- `author` is a many-to-one relationship.  Each post can only be written by one user, but a user can write any number of posts.\n",
    "> `on_delete` parameter tells Django what to do in the db when an object is deleted.  `CASCADE` will create a behavior here where if a user is deleted, the db will also delete all related posts by them. For more information on this, see: https://docs.djangoproject.com/en/3.0/ref/models/fields/#django.db.models.ForeignKey.on_delete\n",
    "- `body` Body text of the post\n",
    "- `publish` Uses Django's timezone `now` is used.  It's like Python's datetime.now method, but it's timezone aware.\n",
    "- `created` This is the time the post was created.  `auto_now_add` saves the date automatically\n",
    "- `updated` The last time the post updated\n",
    "- `status` Uses the `choices` parameter to limit choices\n",
    "\n",
    "After creating this model, it is activated by adding it to the list of `INSTALLED_APPS` in the `settings.py` file\n",
    "\n",
    "- You can also define custom managers for your models.\n",
    "- You can add extra manager methods to an existing manager, or create a new manager by modifying the initial QuerySet that the manager returns\n",
    "- The first manager declared in a model becomes the default manager. You can use the Meta attribute default_manager_name to specify a different default manager. If no manager is defined in the model, Django automatically creates the objects default manager for it. If you declare any managers for your model but you want to keep the objects manager as well, you have to add it explicitly to your model\n",
    "- The get_queryset() method of a manager returns the QuerySet that will be executed. You override this method to include your custom filter in the final QuerySet.\n",
    "- show blog’s manager"
   ]
  },
  {
   "cell_type": "markdown",
   "metadata": {},
   "source": [
    "# List and Detail Views\n",
    "- Building list and detail views\n",
    "- A Django view is just a Python function that receives a web request and returns a web response. All the logic to return the desired response goes inside the view.\n",
    "- First, you will create your application views, then you will define a URL pattern for each view, and finally, you will create HTML templates to render the data generated by the views\n",
    "- Adding URL patterns\n",
    "- Canonical URLs"
   ]
  },
  {
   "cell_type": "markdown",
   "metadata": {},
   "source": [
    "# View Templates\n",
    "- Creating templates for views\n",
    "- Templates define how the data is displayed; they are usually written in HTML in combination with the Django template language. You can find more information about the Django template language at https://docs.djangoproject.com/en/3.0/ref/templates/language/.\n",
    "- The base.html file will include the main HTML structure of the website and divide the content into the main content area and a sidebar. The list.html and detail.html files will inherit from the base.html file to render the blog post list and detail views, respectively.\n",
    "- Django has a powerful template language that allows you to specify how data is displayed. It is based on template tags, template variables, and template filters:\n",
    "- Template tags control the rendering of the template and look like {% tag %}\n",
    "- Template variables get replaced with values when the template is rendered and look like {{ variable }}\n",
    "- Template filters allow you to modify variables for display and look like {{ variable|filter }}.\n",
    "- You can see all built-in template tags and filters at https://docs.djangoproject.com/en/3.0/ref/templates/builtins/.\n",
    "- {% load static %} tells Django to load the static template tags that are provided by the django.contrib.staticfiles application, which is contained in the INSTALLED_APPS setting. After loading them, you are able to use the {% static %} template tag throughout this template. With this template tag, you can include the static files, such as the blog.css file\n",
    "- there are two {% block %} tags. These tell Django that you want to define a block in that area. Templates that inherit from this template can fill in the blocks with content.\n",
    "- With the {% extends %} template tag, you tell Django to inherit from the blog/base.html template."
   ]
  },
  {
   "cell_type": "markdown",
   "metadata": {},
   "source": [
    "# What the class wants\n",
    "- Personalize views - start creating things people in the class want to create"
   ]
  }
 ],
 "metadata": {
  "kernelspec": {
   "display_name": "Python 3",
   "language": "python",
   "name": "python3"
  },
  "language_info": {
   "codemirror_mode": {
    "name": "ipython",
    "version": 3
   },
   "file_extension": ".py",
   "mimetype": "text/x-python",
   "name": "python",
   "nbconvert_exporter": "python",
   "pygments_lexer": "ipython3",
   "version": "3.8.5"
  }
 },
 "nbformat": 4,
 "nbformat_minor": 4
}
